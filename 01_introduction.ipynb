{
 "cells": [
  {
   "cell_type": "markdown",
   "id": "45d9c25f-6641-4385-872b-fddc8aaa7ad6",
   "metadata": {},
   "source": [
    "# Macronutrient Project"
   ]
  },
  {
   "cell_type": "markdown",
   "id": "7fa97f08-897c-4010-aab4-399b7eb61216",
   "metadata": {},
   "source": [
    "Using the nutrition facts from the backs of foods, I will gradually add to a database the macronutrients of foods (calories, fats, and proteins). Future additions to the database include vitamins and minerals.\n",
    "\n",
    "This will help with creating wholesome recipes for hiking meals and dishes in general."
   ]
  },
  {
   "cell_type": "code",
   "execution_count": null,
   "id": "960766a1-dab4-4621-aa94-7dff1271bcb0",
   "metadata": {},
   "outputs": [],
   "source": []
  }
 ],
 "metadata": {
  "kernelspec": {
   "display_name": "bigdataml",
   "language": "python",
   "name": "bigdataml"
  },
  "language_info": {
   "codemirror_mode": {
    "name": "ipython",
    "version": 3
   },
   "file_extension": ".py",
   "mimetype": "text/x-python",
   "name": "python",
   "nbconvert_exporter": "python",
   "pygments_lexer": "ipython3",
   "version": "3.8.16"
  }
 },
 "nbformat": 4,
 "nbformat_minor": 5
}
